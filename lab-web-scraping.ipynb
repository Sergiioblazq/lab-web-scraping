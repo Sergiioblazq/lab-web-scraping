{
  "cells": [
    {
      "cell_type": "markdown",
      "id": "7e7a1ab8-2599-417d-9a65-25ef07f3a786",
      "metadata": {
        "id": "7e7a1ab8-2599-417d-9a65-25ef07f3a786"
      },
      "source": [
        "# Lab | Web Scraping"
      ]
    },
    {
      "cell_type": "markdown",
      "id": "ce8882fc-4815-4567-92fa-b4816358ba7d",
      "metadata": {
        "id": "ce8882fc-4815-4567-92fa-b4816358ba7d"
      },
      "source": [
        "¡Bienvenido al laboratorio de aventura de web scraping \"Books to Scrape\"!\n",
        "\n",
        "**Objetivo**\n",
        "\n",
        "En este laboratorio, nos embarcaremos en una misión para descubrir valiosos conocimientos a partir de los datos disponibles en Books to Scrape, una plataforma en línea que muestra una amplia variedad de libros. Como analista de datos, se te ha encomendado la tarea de extraer un subconjunto específico de datos de libros de Books to Scrape para ayudar a las editoriales a comprender el panorama de los libros mejor valorados en diferentes géneros. Tus conocimientos ayudarán a dar forma a futuras estrategias de marketing de libros y decisiones editoriales.\n",
        "\n",
        "**Antecedentes**\n",
        "\n",
        "En un mundo donde los datos se han convertido en la nueva moneda, las empresas están aprovechando los macrodatos para tomar decisiones informadas que impulsen el éxito y la rentabilidad. La industria editorial, al igual que otras, utiliza el análisis de datos para comprender las tendencias del mercado, las preferencias de los lectores y el rendimiento de los libros según factores como el género, el autor y las calificaciones. Books to Scrape sirve como una rica fuente de estos datos, ofreciendo información detallada sobre una amplia gama de libros, lo que lo convierte en una plataforma ideal para extraer conocimientos que ayuden a tomar decisiones informadas en el mundo literario.\n",
        "\n",
        "**Tarea**\n",
        "\n",
        "Tu tarea es crear un script en Python utilizando BeautifulSoup y pandas para extraer datos de libros de Books to Scrape, centrándote en las calificaciones y géneros de los libros. El script debe ser capaz de filtrar libros con calificaciones por encima de un umbral específico y en géneros específicos. Además, el script debe estructurar los datos extraídos en un formato tabular utilizando pandas para su posterior análisis.\n",
        "\n",
        "**Resultado esperado**\n",
        "\n",
        "Una función llamada `scrape_books` que tome dos parámetros: `min_rating` y `max_price`. La función debe extraer datos de libros del sitio web \"Books to Scrape\" y devolver un DataFrame de `pandas` con las siguientes columnas:\n",
        "\n",
        "- **UPC**: El código universal del producto (UPC) del libro.\n",
        "- **Título**: El título del libro.\n",
        "- **Precio (£)**: El precio del libro en libras.\n",
        "- **Calificación**: La calificación del libro (1-5 estrellas).\n",
        "- **Género**: El género del libro.\n",
        "- **Disponibilidad**: Si el libro está en stock o no.\n",
        "- **Descripción**: Una breve descripción o descripción del producto del libro (si está disponible).\n",
        "\n",
        "Ejecutarás este script para extraer datos de libros con una calificación mínima de `4.0 o superior` y un precio máximo de `£20`.\n",
        "\n",
        "Recuerda experimentar con diferentes calificaciones y precios para asegurarte de que tu código sea versátil y pueda manejar diversas búsquedas de manera efectiva.\n",
        "\n",
        "**Recursos**\n",
        "\n",
        "- [Documentación de Beautiful Soup](https://www.crummy.com/software/BeautifulSoup/bs4/doc/)\n",
        "- [Documentación de Pandas](https://pandas.pydata.org/pandas-docs/stable/index.html)\n",
        "- [Books to Scrape](https://books.toscrape.com/)\n"
      ]
    },
    {
      "cell_type": "markdown",
      "id": "3519921d-5890-445b-9a33-934ed8ee378c",
      "metadata": {
        "id": "3519921d-5890-445b-9a33-934ed8ee378c"
      },
      "source": [
        "**Pista**\n",
        "\n",
        "Tu primera misión es familiarizarte con el sitio web **Books to Scrape**. Navega a [Books to Scrape](http://books.toscrape.com/) y explora los libros disponibles para comprender su diseño y estructura.\n",
        "\n",
        "A continuación, piensa en cómo puedes establecer parámetros para tu extracción de datos:\n",
        "\n",
        "- **Calificación Mínima**: Concéntrate en libros con una calificación de 4.0 o superior.\n",
        "- **Precio Máximo**: Filtra libros con un precio de hasta £20.\n",
        "\n",
        "Después de revisar el sitio, puedes construir un plan para extraer los datos relevantes. Presta atención a los detalles mostrados para cada libro, incluyendo el título, precio, calificación y disponibilidad. Esto te ayudará a identificar los elementos HTML correctos a los que apuntar con tu script de scraping.\n",
        "\n",
        "Asegúrate de construir tu URL y lógica de scraping basándote en los patrones que observes en la estructura HTML de las listas de libros."
      ]
    },
    {
      "cell_type": "markdown",
      "id": "25a83a0d-a742-49f6-985e-e27887cbf922",
      "metadata": {
        "id": "25a83a0d-a742-49f6-985e-e27887cbf922"
      },
      "source": [
        "\n",
        "---\n",
        "\n",
        "**Best of luck! Immerse yourself in the world of books, and may the data be with you!**"
      ]
    },
    {
      "cell_type": "markdown",
      "id": "7b75cf0d-9afa-4eec-a9e2-befeac68b2a0",
      "metadata": {
        "id": "7b75cf0d-9afa-4eec-a9e2-befeac68b2a0"
      },
      "source": [
        "**Nota Importante**:\n",
        "\n",
        "En el mundo en constante cambio de internet, los sitios web a menudo actualizan y modifican sus estructuras. Cuando intentes este laboratorio, es posible que el sitio web **Books to Scrape** sea diferente de lo que esperas.\n",
        "\n",
        "Si encuentras problemas debido a estos cambios, como nuevas reglas u obstáculos que impidan la extracción de datos, ¡no te preocupes! Sé creativo.\n",
        "\n",
        "Puedes elegir otro sitio web que te interese y sea adecuado para extraer datos. Opciones como Wikipedia, The New York Times o incluso bases de datos de bibliotecas son excelentes alternativas. El objetivo principal sigue siendo el mismo: extraer datos útiles y mejorar tus habilidades de web scraping mientras exploras una fuente de información que disfrutes. ¡Esta es tu oportunidad para practicar y adaptarte a diferentes entornos web!"
      ]
    },
    {
      "cell_type": "code",
      "execution_count": 6,
      "id": "40359eee-9cd7-4884-bfa4-83344c222305",
      "metadata": {
        "id": "40359eee-9cd7-4884-bfa4-83344c222305"
      },
      "outputs": [
        {
          "name": "stderr",
          "output_type": "stream",
          "text": [
            "C:\\Users\\sergi\\AppData\\Local\\Temp\\ipykernel_19860\\4096829912.py:35: DeprecationWarning: The 'text' argument to find()-type methods is deprecated. Use 'string' instead.\n",
            "  upc = book_soup.find(\"th\", text=\"UPC\").find_next_sibling(\"td\").text\n"
          ]
        },
        {
          "name": "stdout",
          "output_type": "stream",
          "text": [
            "                 UPC                                             Título  \\\n",
            "0   ce6396b0f23f6ecc                                        Set Me Free   \n",
            "1   6258a1f6a6dcfe50  The Four Agreements: A Practical Guide to Pers...   \n",
            "2   6be3beb0793a53e7                                     Sophie's World   \n",
            "3   657fe5ead67a7767            Untitled Collection: Sabbath Poems 2014   \n",
            "4   51653ef291ab7ddc                                    This One Summer   \n",
            "..               ...                                                ...   \n",
            "70  9c96cd1329fbd82d                                    The Zombie Room   \n",
            "71  b78deb463531d078                                    The Silent Wife   \n",
            "72  4280ac3eab57aa5d                                  The Girl You Lost   \n",
            "73  29fc016c459aeb14              The Edge of Reason (Bridget Jones #2)   \n",
            "74  19fec36a1dfb4c16  A Spy's Devotion (The Regency Spies of London #1)   \n",
            "\n",
            "    Precio (£)  Calificación              Género Disponibilidad  \\\n",
            "0        17.46             5         Young Adult       In stock   \n",
            "1        17.66             5        Spirituality       In stock   \n",
            "2        15.94             5          Philosophy       In stock   \n",
            "3        14.27             4              Poetry       In stock   \n",
            "4        19.49             4      Sequential Art       In stock   \n",
            "..         ...           ...                 ...            ...   \n",
            "70       19.69             5             Default       In stock   \n",
            "71       12.34             5             Fiction       In stock   \n",
            "72       12.29             5             Mystery       In stock   \n",
            "73       19.18             4      Womens Fiction       In stock   \n",
            "74       16.97             5  Historical Fiction       In stock   \n",
            "\n",
            "                                          Descripción  \n",
            "0   Aaron Ledbetter’s future had been planned out ...  \n",
            "1   In The Four Agreements, don Miguel Ruiz reveal...  \n",
            "2   A page-turning novel that is also an explorati...  \n",
            "3   More than thirty-five years ago, when the weat...  \n",
            "4   Every summer, Rose goes with her mom and dad t...  \n",
            "..                                                ...  \n",
            "70  An unlikely bond is forged between three men f...  \n",
            "71  A chilling psychological thriller about a marr...  \n",
            "72  Eighteen years ago your baby daughter was snat...  \n",
            "73  Monday 27 January“7:15 a.m. Hurrah! The wilder...  \n",
            "74  In England’s Regency era, manners and elegance...  \n",
            "\n",
            "[75 rows x 7 columns]\n"
          ]
        }
      ],
      "source": [
        "import requests\n",
        "from bs4 import BeautifulSoup\n",
        "import pandas as pd\n",
        "import urllib.parse\n",
        "\n",
        "def scrape_books(min_rating=4.0, max_price=20.0):\n",
        "    base_url = \"http://books.toscrape.com/catalogue/\"\n",
        "    books = []\n",
        "\n",
        "    # Función para convertir calificaciones de texto a números\n",
        "    def rating_to_number(rating_text):\n",
        "        ratings = {\"One\": 1, \"Two\": 2, \"Three\": 3, \"Four\": 4, \"Five\": 5}\n",
        "        return ratings.get(rating_text, 0)\n",
        "\n",
        "    # Iterar sobre las páginas del sitio\n",
        "    page_url = \"http://books.toscrape.com/catalogue/page-1.html\"\n",
        "    while page_url:\n",
        "        response = requests.get(page_url)\n",
        "        soup = BeautifulSoup(response.content, \"html.parser\")\n",
        "\n",
        "        # Extraer información de cada libro\n",
        "        for book in soup.find_all(\"article\", class_=\"product_pod\"):\n",
        "            title = book.h3.a[\"title\"]\n",
        "            price = float(book.find(\"p\", class_=\"price_color\").text[1:])\n",
        "            rating = rating_to_number(book.p[\"class\"][1])\n",
        "            availability = book.find(\"p\", class_=\"instock availability\").text.strip()\n",
        "\n",
        "            # Filtrar por calificación mínima y precio máximo\n",
        "            if rating >= min_rating and price <= max_price:\n",
        "                book_url = base_url + book.h3.a[\"href\"]\n",
        "                book_response = requests.get(book_url)\n",
        "                book_soup = BeautifulSoup(book_response.content, \"html.parser\")\n",
        "\n",
        "                # Extraer detalles adicionales\n",
        "                upc = book_soup.find(\"th\", text=\"UPC\").find_next_sibling(\"td\").text\n",
        "                genre = book_soup.find(\"ul\", class_=\"breadcrumb\").find_all(\"li\")[2].text.strip()\n",
        "                description_tag = book_soup.find(\"meta\", {\"name\": \"description\"})\n",
        "                description = description_tag[\"content\"].strip() if description_tag else \"No description\"\n",
        "\n",
        "                books.append({\n",
        "                    \"UPC\": upc,\n",
        "                    \"Título\": title,\n",
        "                    \"Precio (£)\": price,\n",
        "                    \"Calificación\": rating,\n",
        "                    \"Género\": genre,\n",
        "                    \"Disponibilidad\": availability,\n",
        "                    \"Descripción\": description\n",
        "                })\n",
        "\n",
        "        # Verificar si hay una página siguiente\n",
        "        next_page = soup.find(\"li\", class_=\"next\")\n",
        "        if next_page:\n",
        "            next_page_url = next_page.a[\"href\"]\n",
        "            page_url = urllib.parse.urljoin(page_url, next_page_url)\n",
        "        else:\n",
        "            page_url = None\n",
        "\n",
        "\n",
        "    # Crear un DataFrame con los datos extraídos\n",
        "    return pd.DataFrame(books)\n",
        "\n",
        "# Llamar a la función con los parámetros requeridos\n",
        "books_df = scrape_books(min_rating=4.0, max_price=20.0)\n",
        "print(books_df)"
      ]
    }
  ],
  "metadata": {
    "colab": {
      "provenance": []
    },
    "kernelspec": {
      "display_name": "venv",
      "language": "python",
      "name": "python3"
    },
    "language_info": {
      "codemirror_mode": {
        "name": "ipython",
        "version": 3
      },
      "file_extension": ".py",
      "mimetype": "text/x-python",
      "name": "python",
      "nbconvert_exporter": "python",
      "pygments_lexer": "ipython3",
      "version": "3.13.2"
    }
  },
  "nbformat": 4,
  "nbformat_minor": 5
}
